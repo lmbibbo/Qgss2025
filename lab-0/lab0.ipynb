{
 "cells": [
  {
   "cell_type": "code",
   "execution_count": 1,
   "id": "a6a23a4c",
   "metadata": {},
   "outputs": [
    {
     "name": "stdout",
     "output_type": "stream",
     "text": [
      "3.12.3\n"
     ]
    }
   ],
   "source": [
    "from platform import python_version\n",
    "\n",
    "print(python_version())"
   ]
  },
  {
   "cell_type": "code",
   "execution_count": 2,
   "id": "47c44dec",
   "metadata": {},
   "outputs": [
    {
     "name": "stdout",
     "output_type": "stream",
     "text": [
      "Collecting git+https://github.com/qiskit-community/Quantum-Challenge-Grader.git\n",
      "  Cloning https://github.com/qiskit-community/Quantum-Challenge-Grader.git to /tmp/pip-req-build-xb40uboh\n",
      "  Running command git clone --filter=blob:none --quiet https://github.com/qiskit-community/Quantum-Challenge-Grader.git /tmp/pip-req-build-xb40uboh\n",
      "  Resolved https://github.com/qiskit-community/Quantum-Challenge-Grader.git to commit 897f4448b14d18b4d0a430f57f11c2dcb6200c20\n",
      "  Installing build dependencies ... \u001b[?25ldone\n",
      "\u001b[?25h  Getting requirements to build wheel ... \u001b[?25ldone\n",
      "\u001b[?25h  Preparing metadata (pyproject.toml) ... \u001b[?25ldone\n",
      "\u001b[?25hCollecting typeguard (from qc_grader==0.22.9)\n",
      "  Downloading typeguard-4.4.4-py3-none-any.whl.metadata (3.3 kB)\n",
      "Collecting jsonpickle==3.0.3 (from qc_grader==0.22.9)\n",
      "  Downloading jsonpickle-3.0.3-py3-none-any.whl.metadata (7.3 kB)\n",
      "Collecting requests==2.32.3 (from qc_grader==0.22.9)\n",
      "  Downloading requests-2.32.3-py3-none-any.whl.metadata (4.6 kB)\n",
      "Collecting ipycytoscape (from qc_grader==0.22.9)\n",
      "  Downloading ipycytoscape-1.3.3-py2.py3-none-any.whl.metadata (7.5 kB)\n",
      "Collecting plotly (from qc_grader==0.22.9)\n",
      "  Downloading plotly-6.2.0-py3-none-any.whl.metadata (8.5 kB)\n",
      "Collecting networkx==3.2.1 (from qc_grader==0.22.9)\n",
      "  Downloading networkx-3.2.1-py3-none-any.whl.metadata (5.2 kB)\n",
      "Collecting graphviz (from qc_grader==0.22.9)\n",
      "  Downloading graphviz-0.21-py3-none-any.whl.metadata (12 kB)\n",
      "Collecting ibm-platform-services==0.66.1 (from qc_grader==0.22.9)\n",
      "  Downloading ibm_platform_services-0.66.1-py3-none-any.whl.metadata (9.0 kB)\n",
      "Collecting ibm_cloud_sdk_core<4.0.0,>=3.24.1 (from ibm-platform-services==0.66.1->qc_grader==0.22.9)\n",
      "  Downloading ibm_cloud_sdk_core-3.24.2-py3-none-any.whl.metadata (8.7 kB)\n",
      "Collecting charset-normalizer<4,>=2 (from requests==2.32.3->qc_grader==0.22.9)\n",
      "  Downloading charset_normalizer-3.4.2-cp312-cp312-manylinux_2_17_x86_64.manylinux2014_x86_64.whl.metadata (35 kB)\n",
      "Collecting idna<4,>=2.5 (from requests==2.32.3->qc_grader==0.22.9)\n",
      "  Downloading idna-3.10-py3-none-any.whl.metadata (10 kB)\n",
      "Collecting urllib3<3,>=1.21.1 (from requests==2.32.3->qc_grader==0.22.9)\n",
      "  Downloading urllib3-2.5.0-py3-none-any.whl.metadata (6.5 kB)\n",
      "Collecting certifi>=2017.4.17 (from requests==2.32.3->qc_grader==0.22.9)\n",
      "  Downloading certifi-2025.6.15-py3-none-any.whl.metadata (2.4 kB)\n",
      "INFO: pip is looking at multiple versions of ibm-cloud-sdk-core to determine which version is compatible with other requirements. This could take a while.\n",
      "Collecting ibm_cloud_sdk_core<4.0.0,>=3.24.1 (from ibm-platform-services==0.66.1->qc_grader==0.22.9)\n",
      "  Downloading ibm_cloud_sdk_core-3.24.1-py3-none-any.whl.metadata (8.7 kB)\n",
      "Requirement already satisfied: python_dateutil<3.0.0,>=2.8.2 in /home/luisma/Program/Qgss2025/.venv/lib/python3.12/site-packages (from ibm_cloud_sdk_core<4.0.0,>=3.24.1->ibm-platform-services==0.66.1->qc_grader==0.22.9) (2.9.0.post0)\n",
      "Collecting PyJWT<3.0.0,>=2.8.0 (from ibm_cloud_sdk_core<4.0.0,>=3.24.1->ibm-platform-services==0.66.1->qc_grader==0.22.9)\n",
      "  Downloading PyJWT-2.10.1-py3-none-any.whl.metadata (4.0 kB)\n",
      "Requirement already satisfied: six>=1.5 in /home/luisma/Program/Qgss2025/.venv/lib/python3.12/site-packages (from python_dateutil<3.0.0,>=2.8.2->ibm_cloud_sdk_core<4.0.0,>=3.24.1->ibm-platform-services==0.66.1->qc_grader==0.22.9) (1.17.0)\n",
      "Collecting ipywidgets>=7.6.0 (from ipycytoscape->qc_grader==0.22.9)\n",
      "  Downloading ipywidgets-8.1.7-py3-none-any.whl.metadata (2.4 kB)\n",
      "Collecting spectate>=1.0.0 (from ipycytoscape->qc_grader==0.22.9)\n",
      "  Downloading spectate-1.0.1-py2.py3-none-any.whl.metadata (2.2 kB)\n",
      "Requirement already satisfied: comm>=0.1.3 in /home/luisma/Program/Qgss2025/.venv/lib/python3.12/site-packages (from ipywidgets>=7.6.0->ipycytoscape->qc_grader==0.22.9) (0.2.2)\n",
      "Requirement already satisfied: ipython>=6.1.0 in /home/luisma/Program/Qgss2025/.venv/lib/python3.12/site-packages (from ipywidgets>=7.6.0->ipycytoscape->qc_grader==0.22.9) (9.4.0)\n",
      "Requirement already satisfied: traitlets>=4.3.1 in /home/luisma/Program/Qgss2025/.venv/lib/python3.12/site-packages (from ipywidgets>=7.6.0->ipycytoscape->qc_grader==0.22.9) (5.14.3)\n",
      "Collecting widgetsnbextension~=4.0.14 (from ipywidgets>=7.6.0->ipycytoscape->qc_grader==0.22.9)\n",
      "  Downloading widgetsnbextension-4.0.14-py3-none-any.whl.metadata (1.6 kB)\n",
      "Collecting jupyterlab_widgets~=3.0.15 (from ipywidgets>=7.6.0->ipycytoscape->qc_grader==0.22.9)\n",
      "  Downloading jupyterlab_widgets-3.0.15-py3-none-any.whl.metadata (20 kB)\n",
      "Requirement already satisfied: decorator in /home/luisma/Program/Qgss2025/.venv/lib/python3.12/site-packages (from ipython>=6.1.0->ipywidgets>=7.6.0->ipycytoscape->qc_grader==0.22.9) (5.2.1)\n",
      "Requirement already satisfied: ipython-pygments-lexers in /home/luisma/Program/Qgss2025/.venv/lib/python3.12/site-packages (from ipython>=6.1.0->ipywidgets>=7.6.0->ipycytoscape->qc_grader==0.22.9) (1.1.1)\n",
      "Requirement already satisfied: jedi>=0.16 in /home/luisma/Program/Qgss2025/.venv/lib/python3.12/site-packages (from ipython>=6.1.0->ipywidgets>=7.6.0->ipycytoscape->qc_grader==0.22.9) (0.19.2)\n",
      "Requirement already satisfied: matplotlib-inline in /home/luisma/Program/Qgss2025/.venv/lib/python3.12/site-packages (from ipython>=6.1.0->ipywidgets>=7.6.0->ipycytoscape->qc_grader==0.22.9) (0.1.7)\n",
      "Requirement already satisfied: pexpect>4.3 in /home/luisma/Program/Qgss2025/.venv/lib/python3.12/site-packages (from ipython>=6.1.0->ipywidgets>=7.6.0->ipycytoscape->qc_grader==0.22.9) (4.9.0)\n",
      "Requirement already satisfied: prompt_toolkit<3.1.0,>=3.0.41 in /home/luisma/Program/Qgss2025/.venv/lib/python3.12/site-packages (from ipython>=6.1.0->ipywidgets>=7.6.0->ipycytoscape->qc_grader==0.22.9) (3.0.51)\n",
      "Requirement already satisfied: pygments>=2.4.0 in /home/luisma/Program/Qgss2025/.venv/lib/python3.12/site-packages (from ipython>=6.1.0->ipywidgets>=7.6.0->ipycytoscape->qc_grader==0.22.9) (2.19.2)\n",
      "Requirement already satisfied: stack_data in /home/luisma/Program/Qgss2025/.venv/lib/python3.12/site-packages (from ipython>=6.1.0->ipywidgets>=7.6.0->ipycytoscape->qc_grader==0.22.9) (0.6.3)\n",
      "Requirement already satisfied: wcwidth in /home/luisma/Program/Qgss2025/.venv/lib/python3.12/site-packages (from prompt_toolkit<3.1.0,>=3.0.41->ipython>=6.1.0->ipywidgets>=7.6.0->ipycytoscape->qc_grader==0.22.9) (0.2.13)\n",
      "Requirement already satisfied: parso<0.9.0,>=0.8.4 in /home/luisma/Program/Qgss2025/.venv/lib/python3.12/site-packages (from jedi>=0.16->ipython>=6.1.0->ipywidgets>=7.6.0->ipycytoscape->qc_grader==0.22.9) (0.8.4)\n",
      "Requirement already satisfied: ptyprocess>=0.5 in /home/luisma/Program/Qgss2025/.venv/lib/python3.12/site-packages (from pexpect>4.3->ipython>=6.1.0->ipywidgets>=7.6.0->ipycytoscape->qc_grader==0.22.9) (0.7.0)\n",
      "Collecting narwhals>=1.15.1 (from plotly->qc_grader==0.22.9)\n",
      "  Downloading narwhals-1.46.0-py3-none-any.whl.metadata (11 kB)\n",
      "Requirement already satisfied: packaging in /home/luisma/Program/Qgss2025/.venv/lib/python3.12/site-packages (from plotly->qc_grader==0.22.9) (25.0)\n",
      "Requirement already satisfied: executing>=1.2.0 in /home/luisma/Program/Qgss2025/.venv/lib/python3.12/site-packages (from stack_data->ipython>=6.1.0->ipywidgets>=7.6.0->ipycytoscape->qc_grader==0.22.9) (2.2.0)\n",
      "Requirement already satisfied: asttokens>=2.1.0 in /home/luisma/Program/Qgss2025/.venv/lib/python3.12/site-packages (from stack_data->ipython>=6.1.0->ipywidgets>=7.6.0->ipycytoscape->qc_grader==0.22.9) (3.0.0)\n",
      "Requirement already satisfied: pure-eval in /home/luisma/Program/Qgss2025/.venv/lib/python3.12/site-packages (from stack_data->ipython>=6.1.0->ipywidgets>=7.6.0->ipycytoscape->qc_grader==0.22.9) (0.2.3)\n",
      "Collecting typing_extensions>=4.14.0 (from typeguard->qc_grader==0.22.9)\n",
      "  Downloading typing_extensions-4.14.1-py3-none-any.whl.metadata (3.0 kB)\n",
      "Downloading ibm_platform_services-0.66.1-py3-none-any.whl (363 kB)\n",
      "Downloading jsonpickle-3.0.3-py3-none-any.whl (40 kB)\n",
      "Downloading networkx-3.2.1-py3-none-any.whl (1.6 MB)\n",
      "\u001b[2K   \u001b[90m━━━━━━━━━━━━━━━━━━━━━━━━━━━━━━━━━━━━━━━━\u001b[0m \u001b[32m1.6/1.6 MB\u001b[0m \u001b[31m12.4 MB/s\u001b[0m eta \u001b[36m0:00:00\u001b[0m\n",
      "\u001b[?25hDownloading requests-2.32.3-py3-none-any.whl (64 kB)\n",
      "Downloading charset_normalizer-3.4.2-cp312-cp312-manylinux_2_17_x86_64.manylinux2014_x86_64.whl (148 kB)\n",
      "Downloading ibm_cloud_sdk_core-3.24.1-py3-none-any.whl (75 kB)\n",
      "Downloading idna-3.10-py3-none-any.whl (70 kB)\n",
      "Downloading PyJWT-2.10.1-py3-none-any.whl (22 kB)\n",
      "Downloading urllib3-2.5.0-py3-none-any.whl (129 kB)\n",
      "Downloading certifi-2025.6.15-py3-none-any.whl (157 kB)\n",
      "Downloading graphviz-0.21-py3-none-any.whl (47 kB)\n",
      "Downloading ipycytoscape-1.3.3-py2.py3-none-any.whl (3.6 MB)\n",
      "\u001b[2K   \u001b[90m━━━━━━━━━━━━━━━━━━━━━━━━━━━━━━━━━━━━━━━━\u001b[0m \u001b[32m3.6/3.6 MB\u001b[0m \u001b[31m6.4 MB/s\u001b[0m eta \u001b[36m0:00:00\u001b[0ma \u001b[36m0:00:01\u001b[0m\n",
      "\u001b[?25hDownloading ipywidgets-8.1.7-py3-none-any.whl (139 kB)\n",
      "Downloading jupyterlab_widgets-3.0.15-py3-none-any.whl (216 kB)\n",
      "Downloading widgetsnbextension-4.0.14-py3-none-any.whl (2.2 MB)\n",
      "\u001b[2K   \u001b[90m━━━━━━━━━━━━━━━━━━━━━━━━━━━━━━━━━━━━━━━━\u001b[0m \u001b[32m2.2/2.2 MB\u001b[0m \u001b[31m12.3 MB/s\u001b[0m eta \u001b[36m0:00:00\u001b[0m\n",
      "\u001b[?25hDownloading spectate-1.0.1-py2.py3-none-any.whl (11 kB)\n",
      "Downloading plotly-6.2.0-py3-none-any.whl (9.6 MB)\n",
      "\u001b[2K   \u001b[90m━━━━━━━━━━━━━━━━━━━━━━━━━━━━━━━━━━━━━━━━\u001b[0m \u001b[32m9.6/9.6 MB\u001b[0m \u001b[31m13.0 MB/s\u001b[0m eta \u001b[36m0:00:00\u001b[0ma \u001b[36m0:00:01\u001b[0m\n",
      "\u001b[?25hDownloading narwhals-1.46.0-py3-none-any.whl (373 kB)\n",
      "Downloading typeguard-4.4.4-py3-none-any.whl (34 kB)\n",
      "Downloading typing_extensions-4.14.1-py3-none-any.whl (43 kB)\n",
      "Building wheels for collected packages: qc_grader\n",
      "  Building wheel for qc_grader (pyproject.toml) ... \u001b[?25ldone\n",
      "\u001b[?25h  Created wheel for qc_grader: filename=qc_grader-0.22.9-py3-none-any.whl size=2518484 sha256=d8d3acd1c89f1104b41c8d164c57f908dc23d1996160fb8b4fff2b68d6e327bb\n",
      "  Stored in directory: /tmp/pip-ephem-wheel-cache-m1vjhm_d/wheels/50/b7/39/4a214a1b3d27e5a7b1a5b0f5131aff4ad3f7f07f5d6a1af3d5\n",
      "Successfully built qc_grader\n",
      "Installing collected packages: widgetsnbextension, urllib3, typing_extensions, spectate, PyJWT, networkx, narwhals, jupyterlab_widgets, jsonpickle, idna, graphviz, charset-normalizer, certifi, typeguard, requests, plotly, ipywidgets, ibm_cloud_sdk_core, ipycytoscape, ibm-platform-services, qc_grader\n",
      "\u001b[2K   \u001b[90m━━━━━━━━━━━━━━━━━━━━━━━━━━━━━━━━━━━━━━━━\u001b[0m \u001b[32m21/21\u001b[0m [qc_grader]21\u001b[0m [qc_grader]rm-services]\n",
      "\u001b[1A\u001b[2KSuccessfully installed PyJWT-2.10.1 certifi-2025.6.15 charset-normalizer-3.4.2 graphviz-0.21 ibm-platform-services-0.66.1 ibm_cloud_sdk_core-3.24.1 idna-3.10 ipycytoscape-1.3.3 ipywidgets-8.1.7 jsonpickle-3.0.3 jupyterlab_widgets-3.0.15 narwhals-1.46.0 networkx-3.2.1 plotly-6.2.0 qc_grader-0.22.9 requests-2.32.3 spectate-1.0.1 typeguard-4.4.4 typing_extensions-4.14.1 urllib3-2.5.0 widgetsnbextension-4.0.14\n",
      "Note: you may need to restart the kernel to use updated packages.\n"
     ]
    }
   ],
   "source": [
    "pip install git+https://github.com/qiskit-community/Quantum-Challenge-Grader.git"
   ]
  },
  {
   "cell_type": "code",
   "execution_count": 4,
   "id": "b4318aec",
   "metadata": {},
   "outputs": [
    {
     "name": "stdout",
     "output_type": "stream",
     "text": [
      "Collecting qiskit\n",
      "  Downloading qiskit-2.1.0-cp39-abi3-manylinux_2_17_x86_64.manylinux2014_x86_64.whl.metadata (12 kB)\n",
      "Collecting rustworkx>=0.15.0 (from qiskit)\n",
      "  Downloading rustworkx-0.16.0-cp39-abi3-manylinux_2_17_x86_64.manylinux2014_x86_64.whl.metadata (10 kB)\n",
      "Collecting numpy<3,>=1.17 (from qiskit)\n",
      "  Downloading numpy-2.3.1-cp312-cp312-manylinux_2_28_x86_64.whl.metadata (62 kB)\n",
      "Collecting scipy>=1.5 (from qiskit)\n",
      "  Downloading scipy-1.16.0-cp312-cp312-manylinux2014_x86_64.manylinux_2_17_x86_64.whl.metadata (61 kB)\n",
      "Collecting dill>=0.3 (from qiskit)\n",
      "  Downloading dill-0.4.0-py3-none-any.whl.metadata (10 kB)\n",
      "Collecting stevedore>=3.0.0 (from qiskit)\n",
      "  Downloading stevedore-5.4.1-py3-none-any.whl.metadata (2.3 kB)\n",
      "Requirement already satisfied: typing-extensions in /home/luisma/Program/Qgss2025/.venv/lib/python3.12/site-packages (from qiskit) (4.14.1)\n",
      "Collecting pbr>=2.0.0 (from stevedore>=3.0.0->qiskit)\n",
      "  Downloading pbr-6.1.1-py2.py3-none-any.whl.metadata (3.4 kB)\n",
      "Collecting setuptools (from pbr>=2.0.0->stevedore>=3.0.0->qiskit)\n",
      "  Using cached setuptools-80.9.0-py3-none-any.whl.metadata (6.6 kB)\n",
      "Downloading qiskit-2.1.0-cp39-abi3-manylinux_2_17_x86_64.manylinux2014_x86_64.whl (7.5 MB)\n",
      "\u001b[2K   \u001b[90m━━━━━━━━━━━━━━━━━━━━━━━━━━━━━━━━━━━━━━━━\u001b[0m \u001b[32m7.5/7.5 MB\u001b[0m \u001b[31m12.9 MB/s\u001b[0m eta \u001b[36m0:00:00\u001b[0ma \u001b[36m0:00:01\u001b[0m\n",
      "\u001b[?25hDownloading numpy-2.3.1-cp312-cp312-manylinux_2_28_x86_64.whl (16.6 MB)\n",
      "\u001b[2K   \u001b[90m━━━━━━━━━━━━━━━━━━━━━━━━━━━━━━━━━━━━━━━━\u001b[0m \u001b[32m16.6/16.6 MB\u001b[0m \u001b[31m13.0 MB/s\u001b[0m eta \u001b[36m0:00:00\u001b[0m00:01\u001b[0m00:01\u001b[0m\n",
      "\u001b[?25hDownloading dill-0.4.0-py3-none-any.whl (119 kB)\n",
      "Downloading rustworkx-0.16.0-cp39-abi3-manylinux_2_17_x86_64.manylinux2014_x86_64.whl (2.1 MB)\n",
      "\u001b[2K   \u001b[90m━━━━━━━━━━━━━━━━━━━━━━━━━━━━━━━━━━━━━━━━\u001b[0m \u001b[32m2.1/2.1 MB\u001b[0m \u001b[31m12.0 MB/s\u001b[0m eta \u001b[36m0:00:00\u001b[0m\n",
      "\u001b[?25hDownloading scipy-1.16.0-cp312-cp312-manylinux2014_x86_64.manylinux_2_17_x86_64.whl (35.1 MB)\n",
      "\u001b[2K   \u001b[90m━━━━━━━━━━━━━━━━━━━━━━━━━━━━━━━━━━━━━━━━\u001b[0m \u001b[32m35.1/35.1 MB\u001b[0m \u001b[31m12.8 MB/s\u001b[0m eta \u001b[36m0:00:00\u001b[0m00:01\u001b[0m00:01\u001b[0m\n",
      "\u001b[?25hDownloading stevedore-5.4.1-py3-none-any.whl (49 kB)\n",
      "Downloading pbr-6.1.1-py2.py3-none-any.whl (108 kB)\n",
      "Using cached setuptools-80.9.0-py3-none-any.whl (1.2 MB)\n",
      "Installing collected packages: setuptools, numpy, dill, scipy, rustworkx, pbr, stevedore, qiskit\n",
      "\u001b[2K   \u001b[90m━━━━━━━━━━━━━━━━━━━━━━━━━━━━━━━━━━━━━━━━\u001b[0m \u001b[32m8/8\u001b[0m [qiskit]2m7/8\u001b[0m [qiskit]\n",
      "\u001b[1A\u001b[2KSuccessfully installed dill-0.4.0 numpy-2.3.1 pbr-6.1.1 qiskit-2.1.0 rustworkx-0.16.0 scipy-1.16.0 setuptools-80.9.0 stevedore-5.4.1\n",
      "Note: you may need to restart the kernel to use updated packages.\n"
     ]
    }
   ],
   "source": [
    "pip install qiskit"
   ]
  },
  {
   "cell_type": "code",
   "execution_count": 5,
   "id": "5165e909",
   "metadata": {},
   "outputs": [
    {
     "name": "stdout",
     "output_type": "stream",
     "text": [
      "Qiskit version: 2.1.0\n",
      "Grader version: 0.22.9\n"
     ]
    }
   ],
   "source": [
    "import qiskit\n",
    "import qc_grader\n",
    "\n",
    "print(f\"Qiskit version: {qiskit.__version__}\")\n",
    "print(f\"Grader version: {qc_grader.__version__}\")"
   ]
  },
  {
   "cell_type": "code",
   "execution_count": 8,
   "id": "881ae2a6",
   "metadata": {},
   "outputs": [
    {
     "name": "stdout",
     "output_type": "stream",
     "text": [
      "Collecting qiskit_ibm_runtime\n",
      "  Downloading qiskit_ibm_runtime-0.40.1-py3-none-any.whl.metadata (21 kB)\n",
      "Requirement already satisfied: requests>=2.19 in /home/luisma/Program/Qgss2025/.venv/lib/python3.12/site-packages (from qiskit_ibm_runtime) (2.32.3)\n",
      "Collecting requests-ntlm>=1.1.0 (from qiskit_ibm_runtime)\n",
      "  Downloading requests_ntlm-1.3.0-py3-none-any.whl.metadata (2.4 kB)\n",
      "Requirement already satisfied: numpy>=1.13 in /home/luisma/Program/Qgss2025/.venv/lib/python3.12/site-packages (from qiskit_ibm_runtime) (2.3.1)\n",
      "Requirement already satisfied: urllib3>=1.21.1 in /home/luisma/Program/Qgss2025/.venv/lib/python3.12/site-packages (from qiskit_ibm_runtime) (2.5.0)\n",
      "Requirement already satisfied: python-dateutil>=2.8.0 in /home/luisma/Program/Qgss2025/.venv/lib/python3.12/site-packages (from qiskit_ibm_runtime) (2.9.0.post0)\n",
      "Requirement already satisfied: ibm-platform-services>=0.22.6 in /home/luisma/Program/Qgss2025/.venv/lib/python3.12/site-packages (from qiskit_ibm_runtime) (0.66.1)\n",
      "Collecting pydantic>=2.5.0 (from qiskit_ibm_runtime)\n",
      "  Downloading pydantic-2.11.7-py3-none-any.whl.metadata (67 kB)\n",
      "Requirement already satisfied: qiskit>=1.4.1 in /home/luisma/Program/Qgss2025/.venv/lib/python3.12/site-packages (from qiskit_ibm_runtime) (2.1.0)\n",
      "Requirement already satisfied: packaging in /home/luisma/Program/Qgss2025/.venv/lib/python3.12/site-packages (from qiskit_ibm_runtime) (25.0)\n",
      "Requirement already satisfied: ibm_cloud_sdk_core<4.0.0,>=3.24.1 in /home/luisma/Program/Qgss2025/.venv/lib/python3.12/site-packages (from ibm-platform-services>=0.22.6->qiskit_ibm_runtime) (3.24.1)\n",
      "Requirement already satisfied: PyJWT<3.0.0,>=2.8.0 in /home/luisma/Program/Qgss2025/.venv/lib/python3.12/site-packages (from ibm_cloud_sdk_core<4.0.0,>=3.24.1->ibm-platform-services>=0.22.6->qiskit_ibm_runtime) (2.10.1)\n",
      "Requirement already satisfied: six>=1.5 in /home/luisma/Program/Qgss2025/.venv/lib/python3.12/site-packages (from python-dateutil>=2.8.0->qiskit_ibm_runtime) (1.17.0)\n",
      "Requirement already satisfied: charset-normalizer<4,>=2 in /home/luisma/Program/Qgss2025/.venv/lib/python3.12/site-packages (from requests>=2.19->qiskit_ibm_runtime) (3.4.2)\n",
      "Requirement already satisfied: idna<4,>=2.5 in /home/luisma/Program/Qgss2025/.venv/lib/python3.12/site-packages (from requests>=2.19->qiskit_ibm_runtime) (3.10)\n",
      "Requirement already satisfied: certifi>=2017.4.17 in /home/luisma/Program/Qgss2025/.venv/lib/python3.12/site-packages (from requests>=2.19->qiskit_ibm_runtime) (2025.6.15)\n",
      "Collecting annotated-types>=0.6.0 (from pydantic>=2.5.0->qiskit_ibm_runtime)\n",
      "  Downloading annotated_types-0.7.0-py3-none-any.whl.metadata (15 kB)\n",
      "Collecting pydantic-core==2.33.2 (from pydantic>=2.5.0->qiskit_ibm_runtime)\n",
      "  Downloading pydantic_core-2.33.2-cp312-cp312-manylinux_2_17_x86_64.manylinux2014_x86_64.whl.metadata (6.8 kB)\n",
      "Requirement already satisfied: typing-extensions>=4.12.2 in /home/luisma/Program/Qgss2025/.venv/lib/python3.12/site-packages (from pydantic>=2.5.0->qiskit_ibm_runtime) (4.14.1)\n",
      "Collecting typing-inspection>=0.4.0 (from pydantic>=2.5.0->qiskit_ibm_runtime)\n",
      "  Downloading typing_inspection-0.4.1-py3-none-any.whl.metadata (2.6 kB)\n",
      "Requirement already satisfied: rustworkx>=0.15.0 in /home/luisma/Program/Qgss2025/.venv/lib/python3.12/site-packages (from qiskit>=1.4.1->qiskit_ibm_runtime) (0.16.0)\n",
      "Requirement already satisfied: scipy>=1.5 in /home/luisma/Program/Qgss2025/.venv/lib/python3.12/site-packages (from qiskit>=1.4.1->qiskit_ibm_runtime) (1.16.0)\n",
      "Requirement already satisfied: dill>=0.3 in /home/luisma/Program/Qgss2025/.venv/lib/python3.12/site-packages (from qiskit>=1.4.1->qiskit_ibm_runtime) (0.4.0)\n",
      "Requirement already satisfied: stevedore>=3.0.0 in /home/luisma/Program/Qgss2025/.venv/lib/python3.12/site-packages (from qiskit>=1.4.1->qiskit_ibm_runtime) (5.4.1)\n",
      "Collecting cryptography>=1.3 (from requests-ntlm>=1.1.0->qiskit_ibm_runtime)\n",
      "  Downloading cryptography-45.0.5-cp311-abi3-manylinux_2_34_x86_64.whl.metadata (5.7 kB)\n",
      "Collecting pyspnego>=0.4.0 (from requests-ntlm>=1.1.0->qiskit_ibm_runtime)\n",
      "  Downloading pyspnego-0.11.2-py3-none-any.whl.metadata (5.4 kB)\n",
      "Collecting cffi>=1.14 (from cryptography>=1.3->requests-ntlm>=1.1.0->qiskit_ibm_runtime)\n",
      "  Downloading cffi-1.17.1-cp312-cp312-manylinux_2_17_x86_64.manylinux2014_x86_64.whl.metadata (1.5 kB)\n",
      "Collecting pycparser (from cffi>=1.14->cryptography>=1.3->requests-ntlm>=1.1.0->qiskit_ibm_runtime)\n",
      "  Downloading pycparser-2.22-py3-none-any.whl.metadata (943 bytes)\n",
      "Requirement already satisfied: pbr>=2.0.0 in /home/luisma/Program/Qgss2025/.venv/lib/python3.12/site-packages (from stevedore>=3.0.0->qiskit>=1.4.1->qiskit_ibm_runtime) (6.1.1)\n",
      "Requirement already satisfied: setuptools in /home/luisma/Program/Qgss2025/.venv/lib/python3.12/site-packages (from pbr>=2.0.0->stevedore>=3.0.0->qiskit>=1.4.1->qiskit_ibm_runtime) (80.9.0)\n",
      "Downloading qiskit_ibm_runtime-0.40.1-py3-none-any.whl (3.2 MB)\n",
      "\u001b[2K   \u001b[90m━━━━━━━━━━━━━━━━━━━━━━━━━━━━━━━━━━━━━━━━\u001b[0m \u001b[32m3.2/3.2 MB\u001b[0m \u001b[31m9.0 MB/s\u001b[0m eta \u001b[36m0:00:00\u001b[0ma \u001b[36m0:00:01\u001b[0m\n",
      "\u001b[?25hDownloading pydantic-2.11.7-py3-none-any.whl (444 kB)\n",
      "Downloading pydantic_core-2.33.2-cp312-cp312-manylinux_2_17_x86_64.manylinux2014_x86_64.whl (2.0 MB)\n",
      "\u001b[2K   \u001b[90m━━━━━━━━━━━━━━━━━━━━━━━━━━━━━━━━━━━━━━━━\u001b[0m \u001b[32m2.0/2.0 MB\u001b[0m \u001b[31m12.0 MB/s\u001b[0m eta \u001b[36m0:00:00\u001b[0m\n",
      "\u001b[?25hDownloading annotated_types-0.7.0-py3-none-any.whl (13 kB)\n",
      "Downloading requests_ntlm-1.3.0-py3-none-any.whl (6.6 kB)\n",
      "Downloading cryptography-45.0.5-cp311-abi3-manylinux_2_34_x86_64.whl (4.5 MB)\n",
      "\u001b[2K   \u001b[90m━━━━━━━━━━━━━━━━━━━━━━━━━━━━━━━━━━━━━━━━\u001b[0m \u001b[32m4.5/4.5 MB\u001b[0m \u001b[31m12.7 MB/s\u001b[0m eta \u001b[36m0:00:00\u001b[0ma \u001b[36m0:00:01\u001b[0m\n",
      "\u001b[?25hDownloading cffi-1.17.1-cp312-cp312-manylinux_2_17_x86_64.manylinux2014_x86_64.whl (479 kB)\n",
      "Downloading pyspnego-0.11.2-py3-none-any.whl (130 kB)\n",
      "Downloading typing_inspection-0.4.1-py3-none-any.whl (14 kB)\n",
      "Downloading pycparser-2.22-py3-none-any.whl (117 kB)\n",
      "Installing collected packages: typing-inspection, pydantic-core, pycparser, annotated-types, pydantic, cffi, cryptography, pyspnego, requests-ntlm, qiskit_ibm_runtime\n",
      "\u001b[2K   \u001b[90m━━━━━━━━━━━━━━━━━━━━━━━━━━━━━━━━━━━━━━━━\u001b[0m \u001b[32m10/10\u001b[0m [qiskit_ibm_runtime]iskit_ibm_runtime]\n",
      "\u001b[1A\u001b[2KSuccessfully installed annotated-types-0.7.0 cffi-1.17.1 cryptography-45.0.5 pycparser-2.22 pydantic-2.11.7 pydantic-core-2.33.2 pyspnego-0.11.2 qiskit_ibm_runtime-0.40.1 requests-ntlm-1.3.0 typing-inspection-0.4.1\n",
      "Note: you may need to restart the kernel to use updated packages.\n"
     ]
    }
   ],
   "source": [
    "pip install qiskit_ibm_runtime"
   ]
  },
  {
   "cell_type": "code",
   "execution_count": 9,
   "id": "09853c73",
   "metadata": {},
   "outputs": [],
   "source": [
    "# Save your API key to track your progress and have access to the quantum computers\n",
    "\n",
    "your_api_key = \"lam3AN0GvvpVGwJQk6RMDDaWKNdoPvJqo2LTooXEz0ml\"\n",
    "your_crn = \"crn:v1:bluemix:public:quantum-computing:us-east:a/84889df94a104432b27b1d04dd4411f7:27251608-ce74-48a1-be7d-54412f5a9a59::\"\n",
    "\n",
    "from qiskit_ibm_runtime import QiskitRuntimeService\n",
    "\n",
    "QiskitRuntimeService.save_account(\n",
    "    channel=\"ibm_quantum_platform\",\n",
    "    token=your_api_key,\n",
    "    instance=your_crn,\n",
    "    name=\"qgss-2025\",\n",
    "    overwrite=True\n",
    ")"
   ]
  },
  {
   "cell_type": "code",
   "execution_count": 10,
   "id": "6150de1b",
   "metadata": {},
   "outputs": [
    {
     "data": {
      "text/plain": [
       "{'qgss-2025': {'channel': 'ibm_quantum_platform',\n",
       "  'url': 'https://cloud.ibm.com',\n",
       "  'token': 'lam3AN0GvvpVGwJQk6RMDDaWKNdoPvJqo2LTooXEz0ml',\n",
       "  'instance': 'crn:v1:bluemix:public:quantum-computing:us-east:a/84889df94a104432b27b1d04dd4411f7:27251608-ce74-48a1-be7d-54412f5a9a59::',\n",
       "  'verify': True,\n",
       "  'private_endpoint': False}}"
      ]
     },
     "execution_count": 10,
     "metadata": {},
     "output_type": "execute_result"
    }
   ],
   "source": [
    "# Check that the account has been saved properly\n",
    "service = QiskitRuntimeService(name=\"qgss-2025\")\n",
    "service.saved_accounts()"
   ]
  },
  {
   "cell_type": "code",
   "execution_count": 12,
   "id": "dd05377c",
   "metadata": {},
   "outputs": [
    {
     "name": "stdout",
     "output_type": "stream",
     "text": [
      "Collecting matplotlib\n",
      "  Downloading matplotlib-3.10.3-cp312-cp312-manylinux_2_17_x86_64.manylinux2014_x86_64.whl.metadata (11 kB)\n",
      "Collecting contourpy>=1.0.1 (from matplotlib)\n",
      "  Downloading contourpy-1.3.2-cp312-cp312-manylinux_2_17_x86_64.manylinux2014_x86_64.whl.metadata (5.5 kB)\n",
      "Collecting cycler>=0.10 (from matplotlib)\n",
      "  Downloading cycler-0.12.1-py3-none-any.whl.metadata (3.8 kB)\n",
      "Collecting fonttools>=4.22.0 (from matplotlib)\n",
      "  Downloading fonttools-4.58.5-cp312-cp312-manylinux1_x86_64.manylinux2014_x86_64.manylinux_2_17_x86_64.manylinux_2_5_x86_64.whl.metadata (106 kB)\n",
      "Collecting kiwisolver>=1.3.1 (from matplotlib)\n",
      "  Downloading kiwisolver-1.4.8-cp312-cp312-manylinux_2_17_x86_64.manylinux2014_x86_64.whl.metadata (6.2 kB)\n",
      "Requirement already satisfied: numpy>=1.23 in /home/luisma/Program/Qgss2025/.venv/lib/python3.12/site-packages (from matplotlib) (2.3.1)\n",
      "Requirement already satisfied: packaging>=20.0 in /home/luisma/Program/Qgss2025/.venv/lib/python3.12/site-packages (from matplotlib) (25.0)\n",
      "Collecting pillow>=8 (from matplotlib)\n",
      "  Downloading pillow-11.3.0-cp312-cp312-manylinux_2_27_x86_64.manylinux_2_28_x86_64.whl.metadata (9.0 kB)\n",
      "Collecting pyparsing>=2.3.1 (from matplotlib)\n",
      "  Downloading pyparsing-3.2.3-py3-none-any.whl.metadata (5.0 kB)\n",
      "Requirement already satisfied: python-dateutil>=2.7 in /home/luisma/Program/Qgss2025/.venv/lib/python3.12/site-packages (from matplotlib) (2.9.0.post0)\n",
      "Requirement already satisfied: six>=1.5 in /home/luisma/Program/Qgss2025/.venv/lib/python3.12/site-packages (from python-dateutil>=2.7->matplotlib) (1.17.0)\n",
      "Downloading matplotlib-3.10.3-cp312-cp312-manylinux_2_17_x86_64.manylinux2014_x86_64.whl (8.6 MB)\n",
      "\u001b[2K   \u001b[90m━━━━━━━━━━━━━━━━━━━━━━━━━━━━━━━━━━━━━━━━\u001b[0m \u001b[32m8.6/8.6 MB\u001b[0m \u001b[31m12.7 MB/s\u001b[0m eta \u001b[36m0:00:00\u001b[0m00:01\u001b[0m00:01\u001b[0m\n",
      "\u001b[?25hDownloading contourpy-1.3.2-cp312-cp312-manylinux_2_17_x86_64.manylinux2014_x86_64.whl (323 kB)\n",
      "Downloading cycler-0.12.1-py3-none-any.whl (8.3 kB)\n",
      "Downloading fonttools-4.58.5-cp312-cp312-manylinux1_x86_64.manylinux2014_x86_64.manylinux_2_17_x86_64.manylinux_2_5_x86_64.whl (4.9 MB)\n",
      "\u001b[2K   \u001b[90m━━━━━━━━━━━━━━━━━━━━━━━━━━━━━━━━━━━━━━━━\u001b[0m \u001b[32m4.9/4.9 MB\u001b[0m \u001b[31m12.6 MB/s\u001b[0m eta \u001b[36m0:00:00\u001b[0ma \u001b[36m0:00:01\u001b[0m\n",
      "\u001b[?25hDownloading kiwisolver-1.4.8-cp312-cp312-manylinux_2_17_x86_64.manylinux2014_x86_64.whl (1.5 MB)\n",
      "\u001b[2K   \u001b[90m━━━━━━━━━━━━━━━━━━━━━━━━━━━━━━━━━━━━━━━━\u001b[0m \u001b[32m1.5/1.5 MB\u001b[0m \u001b[31m11.5 MB/s\u001b[0m eta \u001b[36m0:00:00\u001b[0m\n",
      "\u001b[?25hDownloading pillow-11.3.0-cp312-cp312-manylinux_2_27_x86_64.manylinux_2_28_x86_64.whl (6.6 MB)\n",
      "\u001b[2K   \u001b[90m━━━━━━━━━━━━━━━━━━━━━━━━━━━━━━━━━━━━━━━━\u001b[0m \u001b[32m6.6/6.6 MB\u001b[0m \u001b[31m12.1 MB/s\u001b[0m eta \u001b[36m0:00:00\u001b[0ma \u001b[36m0:00:01\u001b[0m\n",
      "\u001b[?25hDownloading pyparsing-3.2.3-py3-none-any.whl (111 kB)\n",
      "Installing collected packages: pyparsing, pillow, kiwisolver, fonttools, cycler, contourpy, matplotlib\n",
      "\u001b[2K   \u001b[90m━━━━━━━━━━━━━━━━━━━━━━━━━━━━━━━━━━━━━━━━\u001b[0m \u001b[32m7/7\u001b[0m [matplotlib]7\u001b[0m [matplotlib]\n",
      "\u001b[1A\u001b[2KSuccessfully installed contourpy-1.3.2 cycler-0.12.1 fonttools-4.58.5 kiwisolver-1.4.8 matplotlib-3.10.3 pillow-11.3.0 pyparsing-3.2.3\n",
      "Note: you may need to restart the kernel to use updated packages.\n"
     ]
    }
   ],
   "source": [
    "pip install matplotlib"
   ]
  },
  {
   "cell_type": "code",
   "execution_count": 11,
   "id": "27ffbb16",
   "metadata": {},
   "outputs": [
    {
     "ename": "ModuleNotFoundError",
     "evalue": "No module named 'matplotlib'",
     "output_type": "error",
     "traceback": [
      "\u001b[31m---------------------------------------------------------------------------\u001b[39m",
      "\u001b[31mModuleNotFoundError\u001b[39m                       Traceback (most recent call last)",
      "\u001b[36mCell\u001b[39m\u001b[36m \u001b[39m\u001b[32mIn[11]\u001b[39m\u001b[32m, line 1\u001b[39m\n\u001b[32m----> \u001b[39m\u001b[32m1\u001b[39m \u001b[38;5;28;01mimport\u001b[39;00m\u001b[38;5;250m \u001b[39m\u001b[34;01mmatplotlib\u001b[39;00m\u001b[34;01m.\u001b[39;00m\u001b[34;01mpyplot\u001b[39;00m\u001b[38;5;250m \u001b[39m\u001b[38;5;28;01mas\u001b[39;00m\u001b[38;5;250m \u001b[39m\u001b[34;01mplt\u001b[39;00m\n\u001b[32m      3\u001b[39m \u001b[38;5;28;01mfrom\u001b[39;00m\u001b[38;5;250m \u001b[39m\u001b[34;01mqiskit\u001b[39;00m\u001b[38;5;250m \u001b[39m\u001b[38;5;28;01mimport\u001b[39;00m QuantumCircuit, generate_preset_pass_manager\n\u001b[32m      4\u001b[39m \u001b[38;5;28;01mfrom\u001b[39;00m\u001b[38;5;250m \u001b[39m\u001b[34;01mqiskit\u001b[39;00m\u001b[34;01m.\u001b[39;00m\u001b[34;01mvisualization\u001b[39;00m\u001b[38;5;250m \u001b[39m\u001b[38;5;28;01mimport\u001b[39;00m plot_histogram\n",
      "\u001b[31mModuleNotFoundError\u001b[39m: No module named 'matplotlib'"
     ]
    }
   ],
   "source": [
    "import matplotlib.pyplot as plt\n",
    "\n",
    "from qiskit import QuantumCircuit, generate_preset_pass_manager\n",
    "from qiskit.visualization import plot_histogram\n",
    "from qiskit.quantum_info import SparsePauliOp\n",
    "\n",
    "from qiskit_ibm_runtime import QiskitRuntimeService, SamplerV2 as Sampler, EstimatorV2 as Estimator\n",
    "\n",
    "from qiskit_aer import AerSimulator\n",
    "\n",
    "from qc_grader.challenges.qgss_2025 import grade_lab0_ex1, grade_lab0_ex2"
   ]
  },
  {
   "cell_type": "code",
   "execution_count": null,
   "id": "6bd67268",
   "metadata": {},
   "outputs": [],
   "source": []
  }
 ],
 "metadata": {
  "kernelspec": {
   "display_name": ".venv",
   "language": "python",
   "name": "python3"
  },
  "language_info": {
   "codemirror_mode": {
    "name": "ipython",
    "version": 3
   },
   "file_extension": ".py",
   "mimetype": "text/x-python",
   "name": "python",
   "nbconvert_exporter": "python",
   "pygments_lexer": "ipython3",
   "version": "3.12.3"
  }
 },
 "nbformat": 4,
 "nbformat_minor": 5
}
