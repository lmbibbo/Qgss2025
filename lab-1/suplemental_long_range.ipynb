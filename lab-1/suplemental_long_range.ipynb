{
 "cells": [
  {
   "cell_type": "code",
   "execution_count": 1,
   "id": "f1b0d6bd",
   "metadata": {},
   "outputs": [
    {
     "name": "stdout",
     "output_type": "stream",
     "text": [
      "3.12.3\n"
     ]
    }
   ],
   "source": [
    "from platform import python_version\n",
    "\n",
    "print(python_version())"
   ]
  },
  {
   "cell_type": "code",
   "execution_count": 2,
   "id": "3327c644",
   "metadata": {},
   "outputs": [
    {
     "name": "stdout",
     "output_type": "stream",
     "text": [
      "Collecting git+https://github.com/qiskit-community/Quantum-Challenge-Grader.git (from -r requirements.txt (line 2))\n",
      "  Cloning https://github.com/qiskit-community/Quantum-Challenge-Grader.git to /tmp/pip-req-build-_v0o264z\n",
      "  Running command git clone --filter=blob:none --quiet https://github.com/qiskit-community/Quantum-Challenge-Grader.git /tmp/pip-req-build-_v0o264z\n",
      "  Resolved https://github.com/qiskit-community/Quantum-Challenge-Grader.git to commit 897f4448b14d18b4d0a430f57f11c2dcb6200c20\n",
      "  Installing build dependencies ... \u001b[?25ldone\n",
      "\u001b[?25h  Getting requirements to build wheel ... \u001b[?25ldone\n",
      "\u001b[?25h  Preparing metadata (pyproject.toml) ... \u001b[?25ldone\n",
      "\u001b[?25hRequirement already satisfied: qiskit in /home/luisma/Program/Qgss2025/.venv/lib/python3.12/site-packages (from -r requirements.txt (line 1)) (2.1.0)\n",
      "Requirement already satisfied: qiskit_ibm_runtime in /home/luisma/Program/Qgss2025/.venv/lib/python3.12/site-packages (from -r requirements.txt (line 3)) (0.40.1)\n",
      "Requirement already satisfied: matplotlib in /home/luisma/Program/Qgss2025/.venv/lib/python3.12/site-packages (from -r requirements.txt (line 4)) (3.10.3)\n",
      "Requirement already satisfied: qiskit_aer in /home/luisma/Program/Qgss2025/.venv/lib/python3.12/site-packages (from -r requirements.txt (line 5)) (0.17.1)\n",
      "Requirement already satisfied: pylatexenc in /home/luisma/Program/Qgss2025/.venv/lib/python3.12/site-packages (from -r requirements.txt (line 6)) (2.10)\n",
      "Requirement already satisfied: typeguard in /home/luisma/Program/Qgss2025/.venv/lib/python3.12/site-packages (from qc_grader==0.22.9->-r requirements.txt (line 2)) (4.4.4)\n",
      "Requirement already satisfied: jsonpickle==3.0.3 in /home/luisma/Program/Qgss2025/.venv/lib/python3.12/site-packages (from qc_grader==0.22.9->-r requirements.txt (line 2)) (3.0.3)\n",
      "Requirement already satisfied: requests==2.32.3 in /home/luisma/Program/Qgss2025/.venv/lib/python3.12/site-packages (from qc_grader==0.22.9->-r requirements.txt (line 2)) (2.32.3)\n",
      "Requirement already satisfied: ipycytoscape in /home/luisma/Program/Qgss2025/.venv/lib/python3.12/site-packages (from qc_grader==0.22.9->-r requirements.txt (line 2)) (1.3.3)\n",
      "Requirement already satisfied: plotly in /home/luisma/Program/Qgss2025/.venv/lib/python3.12/site-packages (from qc_grader==0.22.9->-r requirements.txt (line 2)) (6.2.0)\n",
      "Requirement already satisfied: networkx==3.2.1 in /home/luisma/Program/Qgss2025/.venv/lib/python3.12/site-packages (from qc_grader==0.22.9->-r requirements.txt (line 2)) (3.2.1)\n",
      "Requirement already satisfied: graphviz in /home/luisma/Program/Qgss2025/.venv/lib/python3.12/site-packages (from qc_grader==0.22.9->-r requirements.txt (line 2)) (0.21)\n",
      "Requirement already satisfied: ibm-platform-services==0.66.1 in /home/luisma/Program/Qgss2025/.venv/lib/python3.12/site-packages (from qc_grader==0.22.9->-r requirements.txt (line 2)) (0.66.1)\n",
      "Requirement already satisfied: ibm_cloud_sdk_core<4.0.0,>=3.24.1 in /home/luisma/Program/Qgss2025/.venv/lib/python3.12/site-packages (from ibm-platform-services==0.66.1->qc_grader==0.22.9->-r requirements.txt (line 2)) (3.24.1)\n",
      "Requirement already satisfied: charset-normalizer<4,>=2 in /home/luisma/Program/Qgss2025/.venv/lib/python3.12/site-packages (from requests==2.32.3->qc_grader==0.22.9->-r requirements.txt (line 2)) (3.4.2)\n",
      "Requirement already satisfied: idna<4,>=2.5 in /home/luisma/Program/Qgss2025/.venv/lib/python3.12/site-packages (from requests==2.32.3->qc_grader==0.22.9->-r requirements.txt (line 2)) (3.10)\n",
      "Requirement already satisfied: urllib3<3,>=1.21.1 in /home/luisma/Program/Qgss2025/.venv/lib/python3.12/site-packages (from requests==2.32.3->qc_grader==0.22.9->-r requirements.txt (line 2)) (2.5.0)\n",
      "Requirement already satisfied: certifi>=2017.4.17 in /home/luisma/Program/Qgss2025/.venv/lib/python3.12/site-packages (from requests==2.32.3->qc_grader==0.22.9->-r requirements.txt (line 2)) (2025.6.15)\n",
      "Requirement already satisfied: python_dateutil<3.0.0,>=2.8.2 in /home/luisma/Program/Qgss2025/.venv/lib/python3.12/site-packages (from ibm_cloud_sdk_core<4.0.0,>=3.24.1->ibm-platform-services==0.66.1->qc_grader==0.22.9->-r requirements.txt (line 2)) (2.9.0.post0)\n",
      "Requirement already satisfied: PyJWT<3.0.0,>=2.8.0 in /home/luisma/Program/Qgss2025/.venv/lib/python3.12/site-packages (from ibm_cloud_sdk_core<4.0.0,>=3.24.1->ibm-platform-services==0.66.1->qc_grader==0.22.9->-r requirements.txt (line 2)) (2.10.1)\n",
      "Requirement already satisfied: six>=1.5 in /home/luisma/Program/Qgss2025/.venv/lib/python3.12/site-packages (from python_dateutil<3.0.0,>=2.8.2->ibm_cloud_sdk_core<4.0.0,>=3.24.1->ibm-platform-services==0.66.1->qc_grader==0.22.9->-r requirements.txt (line 2)) (1.17.0)\n",
      "Requirement already satisfied: rustworkx>=0.15.0 in /home/luisma/Program/Qgss2025/.venv/lib/python3.12/site-packages (from qiskit->-r requirements.txt (line 1)) (0.16.0)\n",
      "Requirement already satisfied: numpy<3,>=1.17 in /home/luisma/Program/Qgss2025/.venv/lib/python3.12/site-packages (from qiskit->-r requirements.txt (line 1)) (2.3.1)\n",
      "Requirement already satisfied: scipy>=1.5 in /home/luisma/Program/Qgss2025/.venv/lib/python3.12/site-packages (from qiskit->-r requirements.txt (line 1)) (1.16.0)\n",
      "Requirement already satisfied: dill>=0.3 in /home/luisma/Program/Qgss2025/.venv/lib/python3.12/site-packages (from qiskit->-r requirements.txt (line 1)) (0.4.0)\n",
      "Requirement already satisfied: stevedore>=3.0.0 in /home/luisma/Program/Qgss2025/.venv/lib/python3.12/site-packages (from qiskit->-r requirements.txt (line 1)) (5.4.1)\n",
      "Requirement already satisfied: typing-extensions in /home/luisma/Program/Qgss2025/.venv/lib/python3.12/site-packages (from qiskit->-r requirements.txt (line 1)) (4.14.1)\n",
      "Requirement already satisfied: requests-ntlm>=1.1.0 in /home/luisma/Program/Qgss2025/.venv/lib/python3.12/site-packages (from qiskit_ibm_runtime->-r requirements.txt (line 3)) (1.3.0)\n",
      "Requirement already satisfied: pydantic>=2.5.0 in /home/luisma/Program/Qgss2025/.venv/lib/python3.12/site-packages (from qiskit_ibm_runtime->-r requirements.txt (line 3)) (2.11.7)\n",
      "Requirement already satisfied: packaging in /home/luisma/Program/Qgss2025/.venv/lib/python3.12/site-packages (from qiskit_ibm_runtime->-r requirements.txt (line 3)) (25.0)\n",
      "Requirement already satisfied: contourpy>=1.0.1 in /home/luisma/Program/Qgss2025/.venv/lib/python3.12/site-packages (from matplotlib->-r requirements.txt (line 4)) (1.3.2)\n",
      "Requirement already satisfied: cycler>=0.10 in /home/luisma/Program/Qgss2025/.venv/lib/python3.12/site-packages (from matplotlib->-r requirements.txt (line 4)) (0.12.1)\n",
      "Requirement already satisfied: fonttools>=4.22.0 in /home/luisma/Program/Qgss2025/.venv/lib/python3.12/site-packages (from matplotlib->-r requirements.txt (line 4)) (4.58.5)\n",
      "Requirement already satisfied: kiwisolver>=1.3.1 in /home/luisma/Program/Qgss2025/.venv/lib/python3.12/site-packages (from matplotlib->-r requirements.txt (line 4)) (1.4.8)\n",
      "Requirement already satisfied: pillow>=8 in /home/luisma/Program/Qgss2025/.venv/lib/python3.12/site-packages (from matplotlib->-r requirements.txt (line 4)) (11.3.0)\n",
      "Requirement already satisfied: pyparsing>=2.3.1 in /home/luisma/Program/Qgss2025/.venv/lib/python3.12/site-packages (from matplotlib->-r requirements.txt (line 4)) (3.2.3)\n",
      "Requirement already satisfied: psutil>=5 in /home/luisma/Program/Qgss2025/.venv/lib/python3.12/site-packages (from qiskit_aer->-r requirements.txt (line 5)) (7.0.0)\n",
      "Requirement already satisfied: annotated-types>=0.6.0 in /home/luisma/Program/Qgss2025/.venv/lib/python3.12/site-packages (from pydantic>=2.5.0->qiskit_ibm_runtime->-r requirements.txt (line 3)) (0.7.0)\n",
      "Requirement already satisfied: pydantic-core==2.33.2 in /home/luisma/Program/Qgss2025/.venv/lib/python3.12/site-packages (from pydantic>=2.5.0->qiskit_ibm_runtime->-r requirements.txt (line 3)) (2.33.2)\n",
      "Requirement already satisfied: typing-inspection>=0.4.0 in /home/luisma/Program/Qgss2025/.venv/lib/python3.12/site-packages (from pydantic>=2.5.0->qiskit_ibm_runtime->-r requirements.txt (line 3)) (0.4.1)\n",
      "Requirement already satisfied: cryptography>=1.3 in /home/luisma/Program/Qgss2025/.venv/lib/python3.12/site-packages (from requests-ntlm>=1.1.0->qiskit_ibm_runtime->-r requirements.txt (line 3)) (45.0.5)\n",
      "Requirement already satisfied: pyspnego>=0.4.0 in /home/luisma/Program/Qgss2025/.venv/lib/python3.12/site-packages (from requests-ntlm>=1.1.0->qiskit_ibm_runtime->-r requirements.txt (line 3)) (0.11.2)\n",
      "Requirement already satisfied: cffi>=1.14 in /home/luisma/Program/Qgss2025/.venv/lib/python3.12/site-packages (from cryptography>=1.3->requests-ntlm>=1.1.0->qiskit_ibm_runtime->-r requirements.txt (line 3)) (1.17.1)\n",
      "Requirement already satisfied: pycparser in /home/luisma/Program/Qgss2025/.venv/lib/python3.12/site-packages (from cffi>=1.14->cryptography>=1.3->requests-ntlm>=1.1.0->qiskit_ibm_runtime->-r requirements.txt (line 3)) (2.22)\n",
      "Requirement already satisfied: pbr>=2.0.0 in /home/luisma/Program/Qgss2025/.venv/lib/python3.12/site-packages (from stevedore>=3.0.0->qiskit->-r requirements.txt (line 1)) (6.1.1)\n",
      "Requirement already satisfied: setuptools in /home/luisma/Program/Qgss2025/.venv/lib/python3.12/site-packages (from pbr>=2.0.0->stevedore>=3.0.0->qiskit->-r requirements.txt (line 1)) (80.9.0)\n",
      "Requirement already satisfied: ipywidgets>=7.6.0 in /home/luisma/Program/Qgss2025/.venv/lib/python3.12/site-packages (from ipycytoscape->qc_grader==0.22.9->-r requirements.txt (line 2)) (8.1.7)\n",
      "Requirement already satisfied: spectate>=1.0.0 in /home/luisma/Program/Qgss2025/.venv/lib/python3.12/site-packages (from ipycytoscape->qc_grader==0.22.9->-r requirements.txt (line 2)) (1.0.1)\n",
      "Requirement already satisfied: comm>=0.1.3 in /home/luisma/Program/Qgss2025/.venv/lib/python3.12/site-packages (from ipywidgets>=7.6.0->ipycytoscape->qc_grader==0.22.9->-r requirements.txt (line 2)) (0.2.2)\n",
      "Requirement already satisfied: ipython>=6.1.0 in /home/luisma/Program/Qgss2025/.venv/lib/python3.12/site-packages (from ipywidgets>=7.6.0->ipycytoscape->qc_grader==0.22.9->-r requirements.txt (line 2)) (9.4.0)\n",
      "Requirement already satisfied: traitlets>=4.3.1 in /home/luisma/Program/Qgss2025/.venv/lib/python3.12/site-packages (from ipywidgets>=7.6.0->ipycytoscape->qc_grader==0.22.9->-r requirements.txt (line 2)) (5.14.3)\n",
      "Requirement already satisfied: widgetsnbextension~=4.0.14 in /home/luisma/Program/Qgss2025/.venv/lib/python3.12/site-packages (from ipywidgets>=7.6.0->ipycytoscape->qc_grader==0.22.9->-r requirements.txt (line 2)) (4.0.14)\n",
      "Requirement already satisfied: jupyterlab_widgets~=3.0.15 in /home/luisma/Program/Qgss2025/.venv/lib/python3.12/site-packages (from ipywidgets>=7.6.0->ipycytoscape->qc_grader==0.22.9->-r requirements.txt (line 2)) (3.0.15)\n",
      "Requirement already satisfied: decorator in /home/luisma/Program/Qgss2025/.venv/lib/python3.12/site-packages (from ipython>=6.1.0->ipywidgets>=7.6.0->ipycytoscape->qc_grader==0.22.9->-r requirements.txt (line 2)) (5.2.1)\n",
      "Requirement already satisfied: ipython-pygments-lexers in /home/luisma/Program/Qgss2025/.venv/lib/python3.12/site-packages (from ipython>=6.1.0->ipywidgets>=7.6.0->ipycytoscape->qc_grader==0.22.9->-r requirements.txt (line 2)) (1.1.1)\n",
      "Requirement already satisfied: jedi>=0.16 in /home/luisma/Program/Qgss2025/.venv/lib/python3.12/site-packages (from ipython>=6.1.0->ipywidgets>=7.6.0->ipycytoscape->qc_grader==0.22.9->-r requirements.txt (line 2)) (0.19.2)\n",
      "Requirement already satisfied: matplotlib-inline in /home/luisma/Program/Qgss2025/.venv/lib/python3.12/site-packages (from ipython>=6.1.0->ipywidgets>=7.6.0->ipycytoscape->qc_grader==0.22.9->-r requirements.txt (line 2)) (0.1.7)\n",
      "Requirement already satisfied: pexpect>4.3 in /home/luisma/Program/Qgss2025/.venv/lib/python3.12/site-packages (from ipython>=6.1.0->ipywidgets>=7.6.0->ipycytoscape->qc_grader==0.22.9->-r requirements.txt (line 2)) (4.9.0)\n",
      "Requirement already satisfied: prompt_toolkit<3.1.0,>=3.0.41 in /home/luisma/Program/Qgss2025/.venv/lib/python3.12/site-packages (from ipython>=6.1.0->ipywidgets>=7.6.0->ipycytoscape->qc_grader==0.22.9->-r requirements.txt (line 2)) (3.0.51)\n",
      "Requirement already satisfied: pygments>=2.4.0 in /home/luisma/Program/Qgss2025/.venv/lib/python3.12/site-packages (from ipython>=6.1.0->ipywidgets>=7.6.0->ipycytoscape->qc_grader==0.22.9->-r requirements.txt (line 2)) (2.19.2)\n",
      "Requirement already satisfied: stack_data in /home/luisma/Program/Qgss2025/.venv/lib/python3.12/site-packages (from ipython>=6.1.0->ipywidgets>=7.6.0->ipycytoscape->qc_grader==0.22.9->-r requirements.txt (line 2)) (0.6.3)\n",
      "Requirement already satisfied: wcwidth in /home/luisma/Program/Qgss2025/.venv/lib/python3.12/site-packages (from prompt_toolkit<3.1.0,>=3.0.41->ipython>=6.1.0->ipywidgets>=7.6.0->ipycytoscape->qc_grader==0.22.9->-r requirements.txt (line 2)) (0.2.13)\n",
      "Requirement already satisfied: parso<0.9.0,>=0.8.4 in /home/luisma/Program/Qgss2025/.venv/lib/python3.12/site-packages (from jedi>=0.16->ipython>=6.1.0->ipywidgets>=7.6.0->ipycytoscape->qc_grader==0.22.9->-r requirements.txt (line 2)) (0.8.4)\n",
      "Requirement already satisfied: ptyprocess>=0.5 in /home/luisma/Program/Qgss2025/.venv/lib/python3.12/site-packages (from pexpect>4.3->ipython>=6.1.0->ipywidgets>=7.6.0->ipycytoscape->qc_grader==0.22.9->-r requirements.txt (line 2)) (0.7.0)\n",
      "Requirement already satisfied: narwhals>=1.15.1 in /home/luisma/Program/Qgss2025/.venv/lib/python3.12/site-packages (from plotly->qc_grader==0.22.9->-r requirements.txt (line 2)) (1.46.0)\n",
      "Requirement already satisfied: executing>=1.2.0 in /home/luisma/Program/Qgss2025/.venv/lib/python3.12/site-packages (from stack_data->ipython>=6.1.0->ipywidgets>=7.6.0->ipycytoscape->qc_grader==0.22.9->-r requirements.txt (line 2)) (2.2.0)\n",
      "Requirement already satisfied: asttokens>=2.1.0 in /home/luisma/Program/Qgss2025/.venv/lib/python3.12/site-packages (from stack_data->ipython>=6.1.0->ipywidgets>=7.6.0->ipycytoscape->qc_grader==0.22.9->-r requirements.txt (line 2)) (3.0.0)\n",
      "Requirement already satisfied: pure-eval in /home/luisma/Program/Qgss2025/.venv/lib/python3.12/site-packages (from stack_data->ipython>=6.1.0->ipywidgets>=7.6.0->ipycytoscape->qc_grader==0.22.9->-r requirements.txt (line 2)) (0.2.3)\n",
      "Note: you may need to restart the kernel to use updated packages.\n"
     ]
    }
   ],
   "source": [
    "pip install -r requirements.txt"
   ]
  },
  {
   "cell_type": "code",
   "execution_count": 3,
   "id": "5f300c8c",
   "metadata": {},
   "outputs": [],
   "source": [
    "import os\n",
    "\n",
    "import numpy as np\n",
    "from numpy import pi\n",
    "import matplotlib.pyplot as plt\n",
    "\n",
    "\n",
    "# Importing standard Qiskit libraries\n",
    "from qiskit import QuantumCircuit, QuantumRegister, ClassicalRegister, transpile\n",
    "from qiskit.primitives import BitArray\n",
    "from qiskit.visualization import *\n",
    "\n",
    "from qiskit_ibm_runtime import QiskitRuntimeService\n",
    "\n",
    "from qiskit.circuit import Gate\n",
    "from qiskit.circuit.library import XGate\n",
    "\n",
    "from qiskit.providers.backend import BackendV2 as Backend\n",
    "from qiskit.transpiler import CouplingMap, InstructionDurations\n",
    "from qiskit.transpiler.passmanager import PassManager\n",
    "from qiskit.transpiler.preset_passmanagers import generate_preset_pass_manager\n",
    "\n",
    "from qiskit_ibm_runtime import QiskitRuntimeService, Options\n",
    "from qiskit_ibm_runtime import Session, Batch, SamplerV2 as Sampler\n",
    "\n",
    "from qiskit_ibm_runtime.transpiler.passes.scheduling import (\n",
    "    DynamicCircuitInstructionDurations,\n",
    "    ALAPScheduleAnalysis,\n",
    "    PadDynamicalDecoupling,\n",
    ")\n",
    "\n",
    "%matplotlib inline\n",
    "\n",
    "import warnings\n",
    "warnings.filterwarnings(\"ignore\")"
   ]
  },
  {
   "cell_type": "code",
   "execution_count": 4,
   "id": "f09f15a8",
   "metadata": {},
   "outputs": [],
   "source": [
    "# Save your API key to track your progress and have access to the quantum computers\n",
    "\n",
    "your_api_key = \"lam3AN0GvvpVGwJQk6RMDDaWKNdoPvJqo2LTooXEz0ml\"\n",
    "your_crn = \"crn:v1:bluemix:public:quantum-computing:us-east:a/84889df94a104432b27b1d04dd4411f7:27251608-ce74-48a1-be7d-54412f5a9a59::\"\n",
    "\n",
    "QiskitRuntimeService.save_account(\n",
    "    channel=\"ibm_quantum_platform\",\n",
    "    token=your_api_key,\n",
    "    instance=your_crn,\n",
    "    name=\"qgss-2025\",\n",
    "    set_as_default=True,\n",
    "    overwrite=True\n",
    ")"
   ]
  },
  {
   "cell_type": "code",
   "execution_count": 6,
   "id": "313e119b",
   "metadata": {},
   "outputs": [],
   "source": [
    "from qiskit_ibm_runtime import QiskitRuntimeService\n",
    "from typing import Any, List, Dict, Union, Optional, Callable, Tuple\n",
    "from qiskit.circuit import IfElseOp\n",
    "\n",
    "service = QiskitRuntimeService()\n"
   ]
  },
  {
   "cell_type": "code",
   "execution_count": 7,
   "id": "a680c10a",
   "metadata": {},
   "outputs": [],
   "source": [
    "def coupling_map_from_qubit_line(coupling_map:List[List[int]],\n",
    "                                 qubit_line: List[List[int]]) -> List[List[int]]:\n",
    "    \"\"\"\n",
    "     Modify the full coupling map to force linearity in the qubit layout\n",
    "    \"\"\"\n",
    "    new_coupling_map = []\n",
    "    line_edge_list = []\n",
    "    for i in range(len(qubit_line)-1):\n",
    "        line_edge_list.append([qubit_line[i],qubit_line[i+1]])\n",
    "\n",
    "    for edge in coupling_map:\n",
    "        u,v = edge\n",
    "        edge_rev = [v,u]\n",
    "        if (edge in line_edge_list) or (edge_rev in line_edge_list):\n",
    "            new_coupling_map.append(edge)\n",
    "    return new_coupling_map"
   ]
  },
  {
   "cell_type": "code",
   "execution_count": 8,
   "id": "8b5efde0",
   "metadata": {},
   "outputs": [],
   "source": [
    "# Set which quantum computer to use\n",
    "backend = service.least_busy(operational=True)"
   ]
  },
  {
   "cell_type": "code",
   "execution_count": 10,
   "id": "e6ad9b87",
   "metadata": {},
   "outputs": [
    {
     "name": "stdout",
     "output_type": "stream",
     "text": [
      "Using backend: ibm_sherbrooke\n"
     ]
    }
   ],
   "source": [
    "backend.target.add_instruction(IfElseOp, name=\"if_else_op\") \n",
    "MACHINE_NAME = backend.name\n",
    "print(f\"Using backend: {MACHINE_NAME}\")"
   ]
  },
  {
   "cell_type": "code",
   "execution_count": null,
   "id": "63be464b",
   "metadata": {},
   "outputs": [],
   "source": [
    "#update qubit line according to your backend connectivity, here I used ibm_torino\n",
    "qubit_lines = {backend.name:[0,1,2,3,4,16,23, 24, 25, 35, 44]}\n",
    "# Set qubit line and coupling map\n",
    "QUBIT_LINE = qubit_lines[MACHINE_NAME]\n",
    "COUPLING_MAP_FULL = [list(edge) for edge in list(QiskitRuntimeService().backend(MACHINE_NAME).coupling_map)]\n",
    "COUPLING_MAP_1D = coupling_map_from_qubit_line(COUPLING_MAP_FULL, QUBIT_LINE)\n",
    "MAX_POSSIBLE_QUBITS_BTW_CNOT = len(QUBIT_LINE) - 2"
   ]
  },
  {
   "cell_type": "code",
   "execution_count": 23,
   "id": "0d070223",
   "metadata": {},
   "outputs": [
    {
     "name": "stdout",
     "output_type": "stream",
     "text": [
      "Machine is set to: ibm_sherbrooke\n",
      "Maximum number of qubits between CNOT for ibm_sherbrooke is 9 with the given qubit line.\n"
     ]
    }
   ],
   "source": [
    "print(f\"Machine is set to: {MACHINE_NAME}\")\n",
    "print(f\"Maximum number of qubits between CNOT for {MACHINE_NAME} is {MAX_POSSIBLE_QUBITS_BTW_CNOT} with the given qubit line.\")"
   ]
  },
  {
   "cell_type": "code",
   "execution_count": 24,
   "id": "28655e09",
   "metadata": {},
   "outputs": [],
   "source": [
    "OPTIMIZATION_LEVEL = 3\n",
    "# Set to True to use dynamical decoupling\n",
    "SHOTS = 1024\n",
    "sampler = Sampler(mode=backend)\n",
    "sampler.options.experimental = {\"execution_path\" : \"gen3-experimental\"}"
   ]
  },
  {
   "cell_type": "code",
   "execution_count": null,
   "id": "02377b12",
   "metadata": {},
   "outputs": [],
   "source": []
  }
 ],
 "metadata": {
  "kernelspec": {
   "display_name": ".venv",
   "language": "python",
   "name": "python3"
  },
  "language_info": {
   "codemirror_mode": {
    "name": "ipython",
    "version": 3
   },
   "file_extension": ".py",
   "mimetype": "text/x-python",
   "name": "python",
   "nbconvert_exporter": "python",
   "pygments_lexer": "ipython3",
   "version": "3.12.3"
  }
 },
 "nbformat": 4,
 "nbformat_minor": 5
}
