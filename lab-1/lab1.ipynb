{
 "cells": [
  {
   "cell_type": "code",
   "execution_count": 1,
   "id": "2807963c",
   "metadata": {},
   "outputs": [
    {
     "name": "stdout",
     "output_type": "stream",
     "text": [
      "3.12.3\n"
     ]
    }
   ],
   "source": [
    "from platform import python_version\n",
    "print(python_version())"
   ]
  },
  {
   "cell_type": "code",
   "execution_count": 2,
   "id": "5bcd7a12",
   "metadata": {},
   "outputs": [
    {
     "name": "stdout",
     "output_type": "stream",
     "text": [
      "Collecting git+https://github.com/qiskit-community/Quantum-Challenge-Grader.git (from -r requirements.txt (line 2))\n",
      "  Cloning https://github.com/qiskit-community/Quantum-Challenge-Grader.git to /tmp/pip-req-build-kgeci2g8\n",
      "  Running command git clone --filter=blob:none --quiet https://github.com/qiskit-community/Quantum-Challenge-Grader.git /tmp/pip-req-build-kgeci2g8\n",
      "  Resolved https://github.com/qiskit-community/Quantum-Challenge-Grader.git to commit 897f4448b14d18b4d0a430f57f11c2dcb6200c20\n",
      "  Installing build dependencies ... \u001b[?25ldone\n",
      "\u001b[?25h  Getting requirements to build wheel ... \u001b[?25ldone\n",
      "\u001b[?25h  Preparing metadata (pyproject.toml) ... \u001b[?25ldone\n",
      "\u001b[?25hRequirement already satisfied: qiskit in /home/luisma/Program/Qgss2025/.venv/lib/python3.12/site-packages (from -r requirements.txt (line 1)) (2.1.0)\n",
      "Requirement already satisfied: qiskit_ibm_runtime in /home/luisma/Program/Qgss2025/.venv/lib/python3.12/site-packages (from -r requirements.txt (line 3)) (0.40.1)\n",
      "Requirement already satisfied: matplotlib in /home/luisma/Program/Qgss2025/.venv/lib/python3.12/site-packages (from -r requirements.txt (line 4)) (3.10.3)\n",
      "Requirement already satisfied: qiskit_aer in /home/luisma/Program/Qgss2025/.venv/lib/python3.12/site-packages (from -r requirements.txt (line 5)) (0.17.1)\n",
      "Requirement already satisfied: pylatexenc in /home/luisma/Program/Qgss2025/.venv/lib/python3.12/site-packages (from -r requirements.txt (line 6)) (2.10)\n",
      "Requirement already satisfied: typeguard in /home/luisma/Program/Qgss2025/.venv/lib/python3.12/site-packages (from qc_grader==0.22.9->-r requirements.txt (line 2)) (4.4.4)\n",
      "Requirement already satisfied: jsonpickle==3.0.3 in /home/luisma/Program/Qgss2025/.venv/lib/python3.12/site-packages (from qc_grader==0.22.9->-r requirements.txt (line 2)) (3.0.3)\n",
      "Requirement already satisfied: requests==2.32.3 in /home/luisma/Program/Qgss2025/.venv/lib/python3.12/site-packages (from qc_grader==0.22.9->-r requirements.txt (line 2)) (2.32.3)\n",
      "Requirement already satisfied: ipycytoscape in /home/luisma/Program/Qgss2025/.venv/lib/python3.12/site-packages (from qc_grader==0.22.9->-r requirements.txt (line 2)) (1.3.3)\n",
      "Requirement already satisfied: plotly in /home/luisma/Program/Qgss2025/.venv/lib/python3.12/site-packages (from qc_grader==0.22.9->-r requirements.txt (line 2)) (6.2.0)\n",
      "Requirement already satisfied: networkx==3.2.1 in /home/luisma/Program/Qgss2025/.venv/lib/python3.12/site-packages (from qc_grader==0.22.9->-r requirements.txt (line 2)) (3.2.1)\n",
      "Requirement already satisfied: graphviz in /home/luisma/Program/Qgss2025/.venv/lib/python3.12/site-packages (from qc_grader==0.22.9->-r requirements.txt (line 2)) (0.21)\n",
      "Requirement already satisfied: ibm-platform-services==0.66.1 in /home/luisma/Program/Qgss2025/.venv/lib/python3.12/site-packages (from qc_grader==0.22.9->-r requirements.txt (line 2)) (0.66.1)\n",
      "Requirement already satisfied: ibm_cloud_sdk_core<4.0.0,>=3.24.1 in /home/luisma/Program/Qgss2025/.venv/lib/python3.12/site-packages (from ibm-platform-services==0.66.1->qc_grader==0.22.9->-r requirements.txt (line 2)) (3.24.1)\n",
      "Requirement already satisfied: charset-normalizer<4,>=2 in /home/luisma/Program/Qgss2025/.venv/lib/python3.12/site-packages (from requests==2.32.3->qc_grader==0.22.9->-r requirements.txt (line 2)) (3.4.2)\n",
      "Requirement already satisfied: idna<4,>=2.5 in /home/luisma/Program/Qgss2025/.venv/lib/python3.12/site-packages (from requests==2.32.3->qc_grader==0.22.9->-r requirements.txt (line 2)) (3.10)\n",
      "Requirement already satisfied: urllib3<3,>=1.21.1 in /home/luisma/Program/Qgss2025/.venv/lib/python3.12/site-packages (from requests==2.32.3->qc_grader==0.22.9->-r requirements.txt (line 2)) (2.5.0)\n",
      "Requirement already satisfied: certifi>=2017.4.17 in /home/luisma/Program/Qgss2025/.venv/lib/python3.12/site-packages (from requests==2.32.3->qc_grader==0.22.9->-r requirements.txt (line 2)) (2025.6.15)\n",
      "Requirement already satisfied: python_dateutil<3.0.0,>=2.8.2 in /home/luisma/Program/Qgss2025/.venv/lib/python3.12/site-packages (from ibm_cloud_sdk_core<4.0.0,>=3.24.1->ibm-platform-services==0.66.1->qc_grader==0.22.9->-r requirements.txt (line 2)) (2.9.0.post0)\n",
      "Requirement already satisfied: PyJWT<3.0.0,>=2.8.0 in /home/luisma/Program/Qgss2025/.venv/lib/python3.12/site-packages (from ibm_cloud_sdk_core<4.0.0,>=3.24.1->ibm-platform-services==0.66.1->qc_grader==0.22.9->-r requirements.txt (line 2)) (2.10.1)\n",
      "Requirement already satisfied: six>=1.5 in /home/luisma/Program/Qgss2025/.venv/lib/python3.12/site-packages (from python_dateutil<3.0.0,>=2.8.2->ibm_cloud_sdk_core<4.0.0,>=3.24.1->ibm-platform-services==0.66.1->qc_grader==0.22.9->-r requirements.txt (line 2)) (1.17.0)\n",
      "Requirement already satisfied: rustworkx>=0.15.0 in /home/luisma/Program/Qgss2025/.venv/lib/python3.12/site-packages (from qiskit->-r requirements.txt (line 1)) (0.16.0)\n",
      "Requirement already satisfied: numpy<3,>=1.17 in /home/luisma/Program/Qgss2025/.venv/lib/python3.12/site-packages (from qiskit->-r requirements.txt (line 1)) (2.3.1)\n",
      "Requirement already satisfied: scipy>=1.5 in /home/luisma/Program/Qgss2025/.venv/lib/python3.12/site-packages (from qiskit->-r requirements.txt (line 1)) (1.16.0)\n",
      "Requirement already satisfied: dill>=0.3 in /home/luisma/Program/Qgss2025/.venv/lib/python3.12/site-packages (from qiskit->-r requirements.txt (line 1)) (0.4.0)\n",
      "Requirement already satisfied: stevedore>=3.0.0 in /home/luisma/Program/Qgss2025/.venv/lib/python3.12/site-packages (from qiskit->-r requirements.txt (line 1)) (5.4.1)\n",
      "Requirement already satisfied: typing-extensions in /home/luisma/Program/Qgss2025/.venv/lib/python3.12/site-packages (from qiskit->-r requirements.txt (line 1)) (4.14.1)\n",
      "Requirement already satisfied: requests-ntlm>=1.1.0 in /home/luisma/Program/Qgss2025/.venv/lib/python3.12/site-packages (from qiskit_ibm_runtime->-r requirements.txt (line 3)) (1.3.0)\n",
      "Requirement already satisfied: pydantic>=2.5.0 in /home/luisma/Program/Qgss2025/.venv/lib/python3.12/site-packages (from qiskit_ibm_runtime->-r requirements.txt (line 3)) (2.11.7)\n",
      "Requirement already satisfied: packaging in /home/luisma/Program/Qgss2025/.venv/lib/python3.12/site-packages (from qiskit_ibm_runtime->-r requirements.txt (line 3)) (25.0)\n",
      "Requirement already satisfied: contourpy>=1.0.1 in /home/luisma/Program/Qgss2025/.venv/lib/python3.12/site-packages (from matplotlib->-r requirements.txt (line 4)) (1.3.2)\n",
      "Requirement already satisfied: cycler>=0.10 in /home/luisma/Program/Qgss2025/.venv/lib/python3.12/site-packages (from matplotlib->-r requirements.txt (line 4)) (0.12.1)\n",
      "Requirement already satisfied: fonttools>=4.22.0 in /home/luisma/Program/Qgss2025/.venv/lib/python3.12/site-packages (from matplotlib->-r requirements.txt (line 4)) (4.58.5)\n",
      "Requirement already satisfied: kiwisolver>=1.3.1 in /home/luisma/Program/Qgss2025/.venv/lib/python3.12/site-packages (from matplotlib->-r requirements.txt (line 4)) (1.4.8)\n",
      "Requirement already satisfied: pillow>=8 in /home/luisma/Program/Qgss2025/.venv/lib/python3.12/site-packages (from matplotlib->-r requirements.txt (line 4)) (11.3.0)\n",
      "Requirement already satisfied: pyparsing>=2.3.1 in /home/luisma/Program/Qgss2025/.venv/lib/python3.12/site-packages (from matplotlib->-r requirements.txt (line 4)) (3.2.3)\n",
      "Requirement already satisfied: psutil>=5 in /home/luisma/Program/Qgss2025/.venv/lib/python3.12/site-packages (from qiskit_aer->-r requirements.txt (line 5)) (7.0.0)\n",
      "Requirement already satisfied: annotated-types>=0.6.0 in /home/luisma/Program/Qgss2025/.venv/lib/python3.12/site-packages (from pydantic>=2.5.0->qiskit_ibm_runtime->-r requirements.txt (line 3)) (0.7.0)\n",
      "Requirement already satisfied: pydantic-core==2.33.2 in /home/luisma/Program/Qgss2025/.venv/lib/python3.12/site-packages (from pydantic>=2.5.0->qiskit_ibm_runtime->-r requirements.txt (line 3)) (2.33.2)\n",
      "Requirement already satisfied: typing-inspection>=0.4.0 in /home/luisma/Program/Qgss2025/.venv/lib/python3.12/site-packages (from pydantic>=2.5.0->qiskit_ibm_runtime->-r requirements.txt (line 3)) (0.4.1)\n",
      "Requirement already satisfied: cryptography>=1.3 in /home/luisma/Program/Qgss2025/.venv/lib/python3.12/site-packages (from requests-ntlm>=1.1.0->qiskit_ibm_runtime->-r requirements.txt (line 3)) (45.0.5)\n",
      "Requirement already satisfied: pyspnego>=0.4.0 in /home/luisma/Program/Qgss2025/.venv/lib/python3.12/site-packages (from requests-ntlm>=1.1.0->qiskit_ibm_runtime->-r requirements.txt (line 3)) (0.11.2)\n",
      "Requirement already satisfied: cffi>=1.14 in /home/luisma/Program/Qgss2025/.venv/lib/python3.12/site-packages (from cryptography>=1.3->requests-ntlm>=1.1.0->qiskit_ibm_runtime->-r requirements.txt (line 3)) (1.17.1)\n",
      "Requirement already satisfied: pycparser in /home/luisma/Program/Qgss2025/.venv/lib/python3.12/site-packages (from cffi>=1.14->cryptography>=1.3->requests-ntlm>=1.1.0->qiskit_ibm_runtime->-r requirements.txt (line 3)) (2.22)\n",
      "Requirement already satisfied: pbr>=2.0.0 in /home/luisma/Program/Qgss2025/.venv/lib/python3.12/site-packages (from stevedore>=3.0.0->qiskit->-r requirements.txt (line 1)) (6.1.1)\n",
      "Requirement already satisfied: setuptools in /home/luisma/Program/Qgss2025/.venv/lib/python3.12/site-packages (from pbr>=2.0.0->stevedore>=3.0.0->qiskit->-r requirements.txt (line 1)) (80.9.0)\n",
      "Requirement already satisfied: ipywidgets>=7.6.0 in /home/luisma/Program/Qgss2025/.venv/lib/python3.12/site-packages (from ipycytoscape->qc_grader==0.22.9->-r requirements.txt (line 2)) (8.1.7)\n",
      "Requirement already satisfied: spectate>=1.0.0 in /home/luisma/Program/Qgss2025/.venv/lib/python3.12/site-packages (from ipycytoscape->qc_grader==0.22.9->-r requirements.txt (line 2)) (1.0.1)\n",
      "Requirement already satisfied: comm>=0.1.3 in /home/luisma/Program/Qgss2025/.venv/lib/python3.12/site-packages (from ipywidgets>=7.6.0->ipycytoscape->qc_grader==0.22.9->-r requirements.txt (line 2)) (0.2.2)\n",
      "Requirement already satisfied: ipython>=6.1.0 in /home/luisma/Program/Qgss2025/.venv/lib/python3.12/site-packages (from ipywidgets>=7.6.0->ipycytoscape->qc_grader==0.22.9->-r requirements.txt (line 2)) (9.4.0)\n",
      "Requirement already satisfied: traitlets>=4.3.1 in /home/luisma/Program/Qgss2025/.venv/lib/python3.12/site-packages (from ipywidgets>=7.6.0->ipycytoscape->qc_grader==0.22.9->-r requirements.txt (line 2)) (5.14.3)\n",
      "Requirement already satisfied: widgetsnbextension~=4.0.14 in /home/luisma/Program/Qgss2025/.venv/lib/python3.12/site-packages (from ipywidgets>=7.6.0->ipycytoscape->qc_grader==0.22.9->-r requirements.txt (line 2)) (4.0.14)\n",
      "Requirement already satisfied: jupyterlab_widgets~=3.0.15 in /home/luisma/Program/Qgss2025/.venv/lib/python3.12/site-packages (from ipywidgets>=7.6.0->ipycytoscape->qc_grader==0.22.9->-r requirements.txt (line 2)) (3.0.15)\n",
      "Requirement already satisfied: decorator in /home/luisma/Program/Qgss2025/.venv/lib/python3.12/site-packages (from ipython>=6.1.0->ipywidgets>=7.6.0->ipycytoscape->qc_grader==0.22.9->-r requirements.txt (line 2)) (5.2.1)\n",
      "Requirement already satisfied: ipython-pygments-lexers in /home/luisma/Program/Qgss2025/.venv/lib/python3.12/site-packages (from ipython>=6.1.0->ipywidgets>=7.6.0->ipycytoscape->qc_grader==0.22.9->-r requirements.txt (line 2)) (1.1.1)\n",
      "Requirement already satisfied: jedi>=0.16 in /home/luisma/Program/Qgss2025/.venv/lib/python3.12/site-packages (from ipython>=6.1.0->ipywidgets>=7.6.0->ipycytoscape->qc_grader==0.22.9->-r requirements.txt (line 2)) (0.19.2)\n",
      "Requirement already satisfied: matplotlib-inline in /home/luisma/Program/Qgss2025/.venv/lib/python3.12/site-packages (from ipython>=6.1.0->ipywidgets>=7.6.0->ipycytoscape->qc_grader==0.22.9->-r requirements.txt (line 2)) (0.1.7)\n",
      "Requirement already satisfied: pexpect>4.3 in /home/luisma/Program/Qgss2025/.venv/lib/python3.12/site-packages (from ipython>=6.1.0->ipywidgets>=7.6.0->ipycytoscape->qc_grader==0.22.9->-r requirements.txt (line 2)) (4.9.0)\n",
      "Requirement already satisfied: prompt_toolkit<3.1.0,>=3.0.41 in /home/luisma/Program/Qgss2025/.venv/lib/python3.12/site-packages (from ipython>=6.1.0->ipywidgets>=7.6.0->ipycytoscape->qc_grader==0.22.9->-r requirements.txt (line 2)) (3.0.51)\n",
      "Requirement already satisfied: pygments>=2.4.0 in /home/luisma/Program/Qgss2025/.venv/lib/python3.12/site-packages (from ipython>=6.1.0->ipywidgets>=7.6.0->ipycytoscape->qc_grader==0.22.9->-r requirements.txt (line 2)) (2.19.2)\n",
      "Requirement already satisfied: stack_data in /home/luisma/Program/Qgss2025/.venv/lib/python3.12/site-packages (from ipython>=6.1.0->ipywidgets>=7.6.0->ipycytoscape->qc_grader==0.22.9->-r requirements.txt (line 2)) (0.6.3)\n",
      "Requirement already satisfied: wcwidth in /home/luisma/Program/Qgss2025/.venv/lib/python3.12/site-packages (from prompt_toolkit<3.1.0,>=3.0.41->ipython>=6.1.0->ipywidgets>=7.6.0->ipycytoscape->qc_grader==0.22.9->-r requirements.txt (line 2)) (0.2.13)\n",
      "Requirement already satisfied: parso<0.9.0,>=0.8.4 in /home/luisma/Program/Qgss2025/.venv/lib/python3.12/site-packages (from jedi>=0.16->ipython>=6.1.0->ipywidgets>=7.6.0->ipycytoscape->qc_grader==0.22.9->-r requirements.txt (line 2)) (0.8.4)\n",
      "Requirement already satisfied: ptyprocess>=0.5 in /home/luisma/Program/Qgss2025/.venv/lib/python3.12/site-packages (from pexpect>4.3->ipython>=6.1.0->ipywidgets>=7.6.0->ipycytoscape->qc_grader==0.22.9->-r requirements.txt (line 2)) (0.7.0)\n",
      "Requirement already satisfied: narwhals>=1.15.1 in /home/luisma/Program/Qgss2025/.venv/lib/python3.12/site-packages (from plotly->qc_grader==0.22.9->-r requirements.txt (line 2)) (1.46.0)\n",
      "Requirement already satisfied: executing>=1.2.0 in /home/luisma/Program/Qgss2025/.venv/lib/python3.12/site-packages (from stack_data->ipython>=6.1.0->ipywidgets>=7.6.0->ipycytoscape->qc_grader==0.22.9->-r requirements.txt (line 2)) (2.2.0)\n",
      "Requirement already satisfied: asttokens>=2.1.0 in /home/luisma/Program/Qgss2025/.venv/lib/python3.12/site-packages (from stack_data->ipython>=6.1.0->ipywidgets>=7.6.0->ipycytoscape->qc_grader==0.22.9->-r requirements.txt (line 2)) (3.0.0)\n",
      "Requirement already satisfied: pure-eval in /home/luisma/Program/Qgss2025/.venv/lib/python3.12/site-packages (from stack_data->ipython>=6.1.0->ipywidgets>=7.6.0->ipycytoscape->qc_grader==0.22.9->-r requirements.txt (line 2)) (0.2.3)\n",
      "Note: you may need to restart the kernel to use updated packages.\n"
     ]
    }
   ],
   "source": [
    "pip install -r requirements.txt"
   ]
  },
  {
   "cell_type": "code",
   "execution_count": 3,
   "id": "d750a17f",
   "metadata": {},
   "outputs": [
    {
     "name": "stdout",
     "output_type": "stream",
     "text": [
      "Qiskit version: 2.1.0\n",
      "Grader version: 0.22.9\n"
     ]
    }
   ],
   "source": [
    "import qiskit\n",
    "import qc_grader\n",
    "print(f\"Qiskit version: {qiskit.__version__}\")\n",
    "print(f\"Grader version: {qc_grader.__version__}\")"
   ]
  },
  {
   "cell_type": "code",
   "execution_count": 4,
   "id": "6d6460ff",
   "metadata": {},
   "outputs": [
    {
     "data": {
      "text/plain": [
       "{'qgss-2025': {'channel': 'ibm_quantum_platform',\n",
       "  'url': 'https://cloud.ibm.com',\n",
       "  'token': 'lam3AN0GvvpVGwJQk6RMDDaWKNdoPvJqo2LTooXEz0ml',\n",
       "  'instance': 'crn:v1:bluemix:public:quantum-computing:us-east:a/84889df94a104432b27b1d04dd4411f7:27251608-ce74-48a1-be7d-54412f5a9a59::',\n",
       "  'verify': True,\n",
       "  'private_endpoint': False}}"
      ]
     },
     "execution_count": 4,
     "metadata": {},
     "output_type": "execute_result"
    }
   ],
   "source": [
    "# Check that the account has been saved properly\n",
    "from qiskit_ibm_runtime import QiskitRuntimeService\n",
    "\n",
    "\n",
    "service = QiskitRuntimeService(name=\"qgss-2025\")\n",
    "service.saved_accounts()"
   ]
  },
  {
   "cell_type": "code",
   "execution_count": 5,
   "id": "7bc9333b",
   "metadata": {},
   "outputs": [],
   "source": [
    "# Essential libraries\n",
    "import numpy as np\n",
    "import matplotlib.pyplot as plt\n",
    "import ipywidgets as widgets\n",
    "from IPython.display import display\n",
    "from PIL import Image\n",
    "import io\n",
    "\n",
    "from qiskit import QuantumCircuit\n",
    "from qiskit.circuit import Parameter\n",
    "from qiskit.visualization import plot_histogram, plot_distribution\n",
    "from qiskit_ibm_runtime import Options, Session, SamplerV2 as Sampler\n",
    "from qiskit.result import marginal_distribution\n",
    "\n",
    "from qiskit.transpiler import generate_preset_pass_manager\n",
    "from qiskit_ibm_runtime import QiskitRuntimeService\n",
    "from qiskit_aer import AerSimulator\n",
    "\n",
    "from qc_grader.challenges.qgss_2025 import (\n",
    "    grade_lab1_ex1_1, \n",
    "    grade_lab1_ex1_2, \n",
    "    grade_lab1_ex1_3, \n",
    "    grade_lab1_ex1_4, \n",
    "    grade_lab1_ex2, \n",
    "    grade_lab1_ex3,\n",
    "    grade_lab1_ex4,\n",
    "    grade_lab1_ex5,\n",
    "    grade_lab1_ex6\n",
    ")"
   ]
  },
  {
   "cell_type": "code",
   "execution_count": null,
   "id": "1ab3d906",
   "metadata": {},
   "outputs": [],
   "source": []
  }
 ],
 "metadata": {
  "kernelspec": {
   "display_name": ".venv",
   "language": "python",
   "name": "python3"
  },
  "language_info": {
   "codemirror_mode": {
    "name": "ipython",
    "version": 3
   },
   "file_extension": ".py",
   "mimetype": "text/x-python",
   "name": "python",
   "nbconvert_exporter": "python",
   "pygments_lexer": "ipython3",
   "version": "3.12.3"
  }
 },
 "nbformat": 4,
 "nbformat_minor": 5
}
